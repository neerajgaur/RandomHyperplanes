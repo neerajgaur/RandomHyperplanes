{
 "cells": [
  {
   "cell_type": "code",
   "execution_count": 1,
   "metadata": {
    "collapsed": false,
    "deletable": true,
    "editable": true
   },
   "outputs": [],
   "source": [
    "# Look at the distributions of non-anomalous and anomalous points\n",
    "import numpy as np \n",
    "import matplotlib.pyplot as plt\n",
    "\n",
    "from random_hyperplanes.planes import RandomProjectionForestOld\n",
    "from random_hyperplanes.iforest import IsolationForest\n",
    "from random_hyperplanes.projections import RandomProjectionForest\n",
    "\n",
    "%matplotlib inline"
   ]
  },
  {
   "cell_type": "code",
   "execution_count": 2,
   "metadata": {
    "collapsed": false,
    "deletable": true,
    "editable": true
   },
   "outputs": [],
   "source": [
    "# Parameters for each classifier\n",
    "N_ESTIMATORS = 500\n",
    "SCORE_AT = 95.0\n",
    "def get_data():\n",
    "    n = 1000\n",
    "    contamination = 0.025\n",
    "    n_anomalies = int(n * contamination)\n",
    "    p = 2\n",
    "\n",
    "    mean = np.array([0, 0])\n",
    "\n",
    "    # The desired covariance matrix.\n",
    "    cov = np.array([\n",
    "        [1.0, -1.175],\n",
    "        [-1.0, 1.250]\n",
    "    ])\n",
    "\n",
    "    cov_2 = np.array([\n",
    "        [1.0, 1.175],\n",
    "        [1.0, 1.250]\n",
    "    ])\n",
    "\n",
    "    cov_anon = np.array([\n",
    "        [ 0.10, 0.0],\n",
    "        [ 0.0, 0.10]\n",
    "    ])\n",
    "\n",
    "    offset = 50\n",
    "\n",
    "    mean_anon = [ -2.5,  -2.5]\n",
    "    mean_1 =    [ -1.0,   0.0]\n",
    "    mean_2 =    [  1.0,   0.0]\n",
    "\n",
    "    is_anomaly = np.random.choice(n, size=n_anomalies, replace=False)\n",
    "\n",
    "    X = np.random.multivariate_normal(mean=mean_1,  cov=cov, size=(int(n/2),))\n",
    "    X = np.row_stack([X, np.random.multivariate_normal(mean=mean_2, cov=cov_2, size=(int(n/2),))])\n",
    "    X_anon = np.random.multivariate_normal(mean=mean_anon, cov=cov_anon, size=(is_anomaly.shape[0]))\n",
    "    return (X, X_anon)"
   ]
  },
  {
   "cell_type": "code",
   "execution_count": 3,
   "metadata": {
    "collapsed": false
   },
   "outputs": [
    {
     "name": "stdout",
     "output_type": "stream",
     "text": [
      "Fitting estimators...\n",
      "1\n",
      "2\n",
      "3\n",
      "4\n",
      "Done fitting!\n"
     ]
    }
   ],
   "source": [
    "X, X_anon = get_data()\n",
    "    \n",
    "X_all = np.row_stack([X, X_anon])\n",
    "np.random.shuffle(X_all)\n",
    "\n",
    "print('Fitting estimators...')\n",
    "rhp = RandomProjectionForestOld(n_estimators=N_ESTIMATORS).fit(X_all)\n",
    "print(1)\n",
    "rcf = IsolationForest(n_estimators=N_ESTIMATORS, method='rcf').fit(X_all)\n",
    "print(2)\n",
    "iforest = IsolationForest(n_estimators=N_ESTIMATORS, method='iforest').fit(X_all)\n",
    "print(3)\n",
    "new_rhp_rcf = RandomProjectionForest(n_estimators=N_ESTIMATORS, method='rcf').fit(X_all)\n",
    "print(4)\n",
    "new_rhp_iforest = RandomProjectionForest(n_estimators=N_ESTIMATORS, method='iforest').fit(X_all)\n",
    "print('Done fitting!')"
   ]
  },
  {
   "cell_type": "code",
   "execution_count": 4,
   "metadata": {
    "collapsed": false
   },
   "outputs": [
    {
     "name": "stdout",
     "output_type": "stream",
     "text": [
      "Iteration 1\n",
      "Iteration 50\n",
      "Iteration 100\n",
      "Iteration 150\n",
      "Iteration 200\n",
      "Iteration 250\n",
      "Iteration 300\n",
      "Iteration 350\n",
      "Iteration 400\n",
      "Iteration 450\n",
      "Iteration 500\n"
     ]
    }
   ],
   "source": [
    "rcf_ano_depths = []\n",
    "rcf_non_depths = []\n",
    "\n",
    "rhp_ano_depths = []\n",
    "rhp_non_depths = []\n",
    "\n",
    "rhp_ano_rcf_depths = []\n",
    "rhp_non_rcf_depths = []\n",
    "\n",
    "rhp_ano_iforest_depths = []\n",
    "rhp_non_iforest_depths = []\n",
    "\n",
    "iforest_ano_depths = []\n",
    "iforest_non_depths = []\n",
    "\n",
    "ano_idx = np.random.randint(low=0, high=X_anon.shape[0])\n",
    "non_idx = np.random.randint(low=0, high=X.shape[0])\n",
    "\n",
    "ano_pt = np.array([X_anon[ano_idx, :]])\n",
    "non_pt = np.array([X[non_idx, :]])\n",
    "\n",
    "i = 0\n",
    "print(f'Iteration 1')\n",
    "\n",
    "for trees in zip(rcf.trees, rhp.trees, iforest.trees):\n",
    "    i += 1\n",
    "    if i % 50 == 0:\n",
    "        print(f'Iteration {i}')\n",
    "        \n",
    "    rcf_tree, rhp_tree, if_tree = trees\n",
    "\n",
    "    rcf_ano_depths.append(rcf_tree.decision_function(ano_pt))\n",
    "    rcf_non_depths.append(rcf_tree.decision_function(non_pt))\n",
    "    \n",
    "    rhp_ano_depths.append(rhp_tree.get_depths(ano_pt))\n",
    "    rhp_non_depths.append(rhp_tree.get_depths(non_pt))\n",
    "    \n",
    "    iforest_ano_depths.append(if_tree.decision_function(ano_pt))\n",
    "    iforest_non_depths.append(if_tree.decision_function(non_pt))\n",
    "    \n",
    "    \n",
    "    \n",
    "rhp_ano_rcf_depths = new_rhp_rcf.get_depth_per_tree(ano_pt)\n",
    "rhp_non_rcf_depths = new_rhp_rcf.get_depth_per_tree(non_pt)\n",
    "\n",
    "rhp_ano_iforest_depths = new_rhp_iforest.get_depth_per_tree(ano_pt)\n",
    "rhp_non_iforest_depths = new_rhp_iforest.get_depth_per_tree(non_pt)"
   ]
  },
  {
   "cell_type": "code",
   "execution_count": 5,
   "metadata": {
    "collapsed": false
   },
   "outputs": [
    {
     "data": {
      "image/png": "[encoded data removed]",
      "text/plain": [
       "<matplotlib.figure.Figure at 0x7fae7599cfd0>"
      ]
     },
     "metadata": {},
     "output_type": "display_data"
    }
   ],
   "source": [
    "plt.figure(figsize=(16, 16))\n",
    "plt.subplot(221)\n",
    "plt.hist([rcf_ano_depths, \n",
    "          rhp_ano_depths,\n",
    "          rhp_ano_rcf_depths,\n",
    "          rhp_ano_iforest_depths,\n",
    "          iforest_ano_depths])\n",
    "\n",
    "plt.legend(['RCF Anomalous Depths', \n",
    "            'RHP OLD Anomalous Depths',\n",
    "            'RHP RCF Anomalous Depths',\n",
    "            'RHP iForest Anomalous Depths',\n",
    "            'iForest Anomalous Depths',])\n",
    "\n",
    "plt.subplot(222)\n",
    "plt.hist([rcf_non_depths, \n",
    "          rhp_non_depths,\n",
    "          rhp_non_rcf_depths,\n",
    "          rhp_non_iforest_depths,\n",
    "          iforest_non_depths])\n",
    "\n",
    "plt.legend(['RCF Non-Anomalous Depths', \n",
    "            'RHP OLD Non-Anomalous Depths',\n",
    "            'RHP RCF Non-Anomalous Depths',\n",
    "            'RHP iForest Non-Anomalous Depths',\n",
    "            'iForest Non-Anomalous Depths',])\n",
    "plt.show()"
   ]
  },
  {
   "cell_type": "code",
   "execution_count": null,
   "metadata": {
    "collapsed": true
   },
   "outputs": [],
   "source": []
  }
 ],
 "metadata": {
  "kernelspec": {
   "display_name": "Python 3",
   "language": "python",
   "name": "python3"
  },
  "language_info": {
   "codemirror_mode": {
    "name": "ipython",
    "version": 3
   },
   "file_extension": ".py",
   "mimetype": "text/x-python",
   "name": "python",
   "nbconvert_exporter": "python",
   "pygments_lexer": "ipython3",
   "version": "3.6.0"
  }
 },
 "nbformat": 4,
 "nbformat_minor": 2
}
