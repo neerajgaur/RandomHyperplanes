{
 "cells": [
  {
   "cell_type": "code",
   "execution_count": 1,
   "metadata": {
    "collapsed": false,
    "deletable": true,
    "editable": true
   },
   "outputs": [],
   "source": [
    "\"\"\" Proof of concept for the random-cut-hyperplanes idea \"\"\"\n",
    "import sys\n",
    "import numpy as np\n",
    "import time\n",
    "\n",
    "from planes import *\n",
    "from projections import *\n",
    "from iforest import *\n",
    "from run import *\n",
    "%load_ext autoreload\n",
    "%autoreload 2"
   ]
  },
  {
   "cell_type": "code",
   "execution_count": 2,
   "metadata": {
    "collapsed": false,
    "deletable": true,
    "editable": true
   },
   "outputs": [
    {
     "name": "stdout",
     "output_type": "stream",
     "text": [
      "Iteration number : 1\n",
      "Iteration number : 2\n",
      "Iteration number : 3\n",
      "Iteration number : 4\n",
      "Iteration number : 5\n",
      "For rhp anom/non_anom: 7.3508, 15.307539393939397\n",
      "Time taken for rhp: 17.581548261642457\n",
      "For old rhp anom/non_anom: 7.254799999999999, 17.92408080808081\n",
      "Time taken for old rhp: 14.054297733306885\n",
      "For iforest anom/non_anom: 17.4884, 18.286169696969694\n",
      "Time taken for iForests: 47.776740646362306\n",
      "For RCF anom/non_anom: 7.306800000000001, 17.503064646464647\n",
      "Time taken for rcf: 90.324982213974\n"
     ]
    }
   ],
   "source": [
    "n_estimators = 100  # Get a somewhat stable approximation\n",
    "SCORE_AT = 2.5\n",
    "\n",
    "n = 1000 # number of entries\n",
    "p = 30  # features\n",
    "\n",
    "infection_pct = 0.05\n",
    "X, y = gen_two_clusters(n, p, infection_pct)\n",
    "#X, y = gen_hard_data(n, p, infection_pct)\n",
    "\n",
    "anomalous_depths_r = list()\n",
    "non_anomalous_depths_r = list()\n",
    "\n",
    "anomalous_depths_ro = list()\n",
    "non_anomalous_depths_ro = list()\n",
    "\n",
    "anomalous_depths_i = list()\n",
    "non_anomalous_depths_i = list()\n",
    "\n",
    "anomalous_depths_rcf = list()\n",
    "non_anomalous_depths_rcf = list()\n",
    "t_r, t_ro, t_i, t_rcf = 0, 0, 0, 0\n",
    "\n",
    "for i in range(1, 6):\n",
    "    #if i % 10 == 0:\n",
    "    print(f\"Iteration number : {i}\")\n",
    "    start = time.time()\n",
    "    scores_ro, depths_ro, y_pred_ro, y_ro, anom_ro, non_anom_ro = run_plane_simul_old(X, y, \n",
    "                                                                            n_estimators=n_estimators)\n",
    "    stop = time.time()\n",
    "    t_ro = (t_ro*(i-1) + (stop - start))/i\n",
    "    start = stop\n",
    "    \n",
    "    scores_r, depths_r, y_pred_r, y_r, anom_r, non_anom_r = run_plane_simul(X, y, \n",
    "                                                                            n_estimators=n_estimators,\n",
    "                                                                            method='rcf')\n",
    "    stop = time.time()\n",
    "    t_r = (t_r*(i-1) + (stop - start))/i\n",
    "    start = stop\n",
    "    \n",
    "    scores_i, depths_i, y_pred_i, y_i, anom_i, non_anom_i = run_iforest_simul(X, y, n_estimators=n_estimators,\n",
    "                                                                              method='iforest')\n",
    "    stop = time.time()\n",
    "    t_i = (t_i*(i-1) + (stop - start))/i\n",
    "    start = stop\n",
    "    scores_rcf, depths_rcf, y_pred_rcf, y_rcf, anom_rcf, non_anom_rcf = run_iforest_simul(X, y, \n",
    "                                                                                          n_estimators=n_estimators,\n",
    "                                                                                          method='rcf')\n",
    "    stop = time.time()\n",
    "    t_rcf = (t_rcf*(i-1) + (stop - start))/i\n",
    "\n",
    "    anomalous_depths_r.append(anom_r)\n",
    "    non_anomalous_depths_r.append(non_anom_r)\n",
    "    \n",
    "    anomalous_depths_ro.append(anom_ro)\n",
    "    non_anomalous_depths_ro.append(non_anom_ro)\n",
    "\n",
    "    anomalous_depths_i.append(anom_i)\n",
    "    non_anomalous_depths_i.append(non_anom_i)\n",
    "\n",
    "    anomalous_depths_rcf.append(anom_rcf)\n",
    "    non_anomalous_depths_rcf.append(non_anom_rcf)\n",
    "\n",
    "print(f\"For rhp anom/non_anom: {np.mean(anomalous_depths_r)}, {np.mean(non_anomalous_depths_r)}\")\n",
    "print(f\"Time taken for rhp: {t_r}\")\n",
    "print(f\"For old rhp anom/non_anom: {np.mean(anomalous_depths_ro)}, {np.mean(non_anomalous_depths_ro)}\")\n",
    "print(f\"Time taken for old rhp: {t_ro}\")\n",
    "print(f\"For iforest anom/non_anom: {np.mean(anomalous_depths_i)}, {np.mean(non_anomalous_depths_i)}\")\n",
    "print(f\"Time taken for iForests: {t_i}\")\n",
    "print(f\"For RCF anom/non_anom: {np.mean(anomalous_depths_rcf)}, {np.mean(non_anomalous_depths_rcf)}\")\n",
    "print(f\"Time taken for rcf: {t_rcf}\")\n"
   ]
  },
  {
   "cell_type": "code",
   "execution_count": 3,
   "metadata": {
    "collapsed": false,
    "deletable": true,
    "editable": true
   },
   "outputs": [],
   "source": [
    "import matplotlib.pyplot as plt\n",
    "X, y = gen_two_clusters(n=n, p=2, infection_pct=0.05)"
   ]
  },
  {
   "cell_type": "code",
   "execution_count": 4,
   "metadata": {
    "collapsed": false,
    "deletable": true,
    "editable": true
   },
   "outputs": [
    {
     "data": {
      "image/png": "[encoded data removed]",
      "text/plain": [
       "<matplotlib.figure.Figure at 0x7ff330ea1da0>"
      ]
     },
     "metadata": {},
     "output_type": "display_data"
    }
   ],
   "source": [
    "X_non = X[np.where(y == 0)]\n",
    "X_ano = X[np.where(y == 1)]\n",
    "\n",
    "plt.scatter(X_non[:, 0], X_non[:, 1], c='b', marker='o', alpha=0.5)\n",
    "plt.scatter(X_ano[:, 0], X_ano[:, 1], c='r', marker='x', alpha=0.5)\n",
    "plt.show()"
   ]
  },
  {
   "cell_type": "code",
   "execution_count": 5,
   "metadata": {
    "collapsed": false,
    "deletable": true,
    "editable": true
   },
   "outputs": [],
   "source": [
    "rhp = RandomProjectionForest(n_estimators=100)\n",
    "rhp = rhp.fit(X)"
   ]
  },
  {
   "cell_type": "code",
   "execution_count": 6,
   "metadata": {
    "collapsed": false,
    "deletable": true,
    "editable": true
   },
   "outputs": [],
   "source": [
    "y_pred = rhp.predict(X, score_at=97.5)"
   ]
  },
  {
   "cell_type": "code",
   "execution_count": 7,
   "metadata": {
    "collapsed": true,
    "deletable": true,
    "editable": true
   },
   "outputs": [],
   "source": [
    "X_pred_non = X[np.where(y_pred == 0)]\n",
    "X_pred_ano = X[np.where(y_pred == 1)]"
   ]
  },
  {
   "cell_type": "code",
   "execution_count": 8,
   "metadata": {
    "collapsed": false,
    "deletable": true,
    "editable": true
   },
   "outputs": [
    {
     "data": {
      "image/png": "[encoded data removed]",
      "text/plain": [
       "<matplotlib.figure.Figure at 0x7ff330e791d0>"
      ]
     },
     "metadata": {},
     "output_type": "display_data"
    }
   ],
   "source": [
    "plt.scatter(X_pred_non[:, 0], X_pred_non[:, 1], c='b', marker='o', alpha=0.5)\n",
    "plt.scatter(X_pred_ano[:, 0], X_pred_ano[:, 1], c='r', marker='x', alpha=0.5)\n",
    "plt.show()"
   ]
  },
  {
   "cell_type": "code",
   "execution_count": 9,
   "metadata": {
    "collapsed": true,
    "deletable": true,
    "editable": true
   },
   "outputs": [],
   "source": [
    "xx, yy = np.meshgrid(np.linspace(-10, 10, 100), np.linspace(-0.05, 0.05, 100))\n",
    "Z = 1 - rhp.decision_function(np.c_[xx.ravel(), yy.ravel()])"
   ]
  },
  {
   "cell_type": "code",
   "execution_count": 10,
   "metadata": {
    "collapsed": false,
    "deletable": true,
    "editable": true
   },
   "outputs": [
    {
     "data": {
      "image/png": "[encoded data removed]",
      "text/plain": [
       "<matplotlib.figure.Figure at 0x7ff2f92c0470>"
      ]
     },
     "metadata": {},
     "output_type": "display_data"
    }
   ],
   "source": [
    "Z = Z.reshape(xx.shape)\n",
    "plt.contourf(xx, yy, Z, cmap=plt.cm.Blues_r)\n",
    "b1 = plt.scatter(X_pred_non[:, 0], X_pred_non[:, 1], c='w', alpha=0.5)\n",
    "b2 = plt.scatter(X_pred_ano[:, 0], X_pred_ano[:, 1], c='r', alpha=0.5)\n",
    "plt.show()"
   ]
  },
  {
   "cell_type": "code",
   "execution_count": 11,
   "metadata": {
    "collapsed": true,
    "deletable": true,
    "editable": true
   },
   "outputs": [],
   "source": [
    "rhp = IsolationForest(n_estimators=100, method='rcf')\n",
    "rhp = rhp.fit(X)"
   ]
  },
  {
   "cell_type": "code",
   "execution_count": 12,
   "metadata": {
    "collapsed": true,
    "deletable": true,
    "editable": true
   },
   "outputs": [],
   "source": [
    "y_pred = rhp.predict(X, score_at=97.5)"
   ]
  },
  {
   "cell_type": "code",
   "execution_count": 13,
   "metadata": {
    "collapsed": true,
    "deletable": true,
    "editable": true
   },
   "outputs": [],
   "source": [
    "X_pred_non = X[np.where(y_pred == 0)]\n",
    "X_pred_ano = X[np.where(y_pred == 1)]"
   ]
  },
  {
   "cell_type": "code",
   "execution_count": 14,
   "metadata": {
    "collapsed": false,
    "deletable": true,
    "editable": true
   },
   "outputs": [
    {
     "data": {
      "image/png": "[encoded data removed]",
      "text/plain": [
       "<matplotlib.figure.Figure at 0x7ff2f938e208>"
      ]
     },
     "metadata": {},
     "output_type": "display_data"
    }
   ],
   "source": [
    "plt.scatter(X_pred_non[:, 0], X_pred_non[:, 1], c='b', marker='o', alpha=0.5)\n",
    "plt.scatter(X_pred_ano[:, 0], X_pred_ano[:, 1], c='r', marker='x', alpha=0.5)\n",
    "plt.show()"
   ]
  },
  {
   "cell_type": "code",
   "execution_count": 15,
   "metadata": {
    "collapsed": true,
    "deletable": true,
    "editable": true
   },
   "outputs": [],
   "source": [
    "xx, yy = np.meshgrid(np.linspace(-10, 10, 100), np.linspace(-0.05, 0.05, 100))\n",
    "Z = 1 - rhp.decision_function(np.c_[xx.ravel(), yy.ravel()])"
   ]
  },
  {
   "cell_type": "code",
   "execution_count": 16,
   "metadata": {
    "collapsed": false,
    "deletable": true,
    "editable": true
   },
   "outputs": [
    {
     "data": {
      "image/png": "[encoded data removed]",
      "text/plain": [
       "<matplotlib.figure.Figure at 0x7ff2f938eac8>"
      ]
     },
     "metadata": {},
     "output_type": "display_data"
    }
   ],
   "source": [
    "Z = Z.reshape(xx.shape)\n",
    "plt.contourf(xx, yy, Z, cmap=plt.cm.Blues_r)\n",
    "b1 = plt.scatter(X_pred_non[:, 0], X_pred_non[:, 1], c='w', alpha=0.5)\n",
    "b2 = plt.scatter(X_pred_ano[:, 0], X_pred_ano[:, 1], c='r', alpha=0.5)\n",
    "plt.show()"
   ]
  },
  {
   "cell_type": "code",
   "execution_count": null,
   "metadata": {
    "collapsed": true,
    "deletable": true,
    "editable": true
   },
   "outputs": [],
   "source": []
  }
 ],
 "metadata": {
  "kernelspec": {
   "display_name": "Python 3",
   "language": "python",
   "name": "python3"
  },
  "language_info": {
   "codemirror_mode": {
    "name": "ipython",
    "version": 3
   },
   "file_extension": ".py",
   "mimetype": "text/x-python",
   "name": "python",
   "nbconvert_exporter": "python",
   "pygments_lexer": "ipython3",
   "version": "3.6.0"
  }
 },
 "nbformat": 4,
 "nbformat_minor": 2
}
