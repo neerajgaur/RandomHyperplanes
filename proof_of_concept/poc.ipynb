{
 "cells": [
  {
   "cell_type": "code",
   "execution_count": 3,
   "metadata": {
    "collapsed": false,
    "deletable": true,
    "editable": true
   },
   "outputs": [
    {
     "name": "stdout",
     "output_type": "stream",
     "text": [
      "The autoreload extension is already loaded. To reload it, use:\n",
      "  %reload_ext autoreload\n"
     ]
    }
   ],
   "source": [
    "\"\"\" Proof of concept for the random-cut-hyperplanes idea \"\"\"\n",
    "import sys\n",
    "import numpy as np\n",
    "import time\n",
    "\n",
    "from planes import *\n",
    "# from iforest import *\n",
    "from run import *\n",
    "%load_ext autoreload\n",
    "%autoreload 2"
   ]
  },
  {
   "cell_type": "code",
   "execution_count": 4,
   "metadata": {
    "collapsed": false,
    "deletable": true,
    "editable": true
   },
   "outputs": [
    {
     "name": "stdout",
     "output_type": "stream",
     "text": [
      "Iteration number : 1\n",
      "Iteration number : 2\n",
      "Iteration number : 3\n",
      "Iteration number : 4\n",
      "Iteration number : 5\n",
      "Iteration number : 6\n",
      "Iteration number : 7\n",
      "Iteration number : 8\n",
      "Iteration number : 9\n",
      "Iteration number : 10\n",
      "For rhp anom/non_anom: 7.0199, 17.76322373737374\n",
      "Time taken for rhp: 11.844460058212281\n",
      "For iforest anom/non_anom: 17.923150000000003, 18.168302525252525\n",
      "Time taken for iForests: 53.051545119285585\n",
      "For RCF anom/non_anom: 7.018600000000001, 17.41731868686869\n",
      "Time taken for rcf: 94.1600346326828\n"
     ]
    }
   ],
   "source": [
    "n_estimators = 200  # Get a somewhat stable approximation\n",
    "SCORE_AT = 2.5\n",
    "\n",
    "n = 1000  # number of entries\n",
    "p = 30  # features\n",
    "\n",
    "infection_pct = 0.05\n",
    "X, y = gen_two_clusters(n, p, infection_pct)\n",
    "#X, y = gen_hard_data(n, p, infection_pct)\n",
    "\n",
    "anomalous_depths_r = list()\n",
    "non_anomalous_depths_r = list()\n",
    "\n",
    "anomalous_depths_i = list()\n",
    "non_anomalous_depths_i = list()\n",
    "\n",
    "anomalous_depths_rcf = list()\n",
    "non_anomalous_depths_rcf = list()\n",
    "t_r, t_i, t_rcf = 0, 0, 0\n",
    "\n",
    "for i in range(1, 11):\n",
    "    #if i % 10 == 0:\n",
    "    print(f\"Iteration number : {i}\")\n",
    "    start = time.time()\n",
    "    scores_r, depths_r, y_pred_r, y_r, anom_r, non_anom_r = run_plane_simul(X, y, \n",
    "                                                                            n_estimators=n_estimators)\n",
    "    stop = time.time()\n",
    "    t_r = (t_r*(i-1) + (stop - start))/i\n",
    "    start = stop\n",
    "    scores_i, depths_i, y_pred_i, y_i, anom_i, non_anom_i = run_iforest_simul(X, y, n_estimators=n_estimators,\n",
    "                                                                              method='iforest')\n",
    "    stop = time.time()\n",
    "    t_i = (t_i*(i-1) + (stop - start))/i\n",
    "    start = stop\n",
    "    scores_rcf, depths_rcf, y_pred_rcf, y_rcf, anom_rcf, non_anom_rcf = run_iforest_simul(X, y, \n",
    "                                                                                          n_estimators=n_estimators,\n",
    "                                                                                          method='rcf')\n",
    "    stop = time.time()\n",
    "    t_rcf = (t_rcf*(i-1) + (stop - start))/i\n",
    "\n",
    "    anomalous_depths_r.append(anom_r)\n",
    "    non_anomalous_depths_r.append(non_anom_r)\n",
    "\n",
    "    anomalous_depths_i.append(anom_i)\n",
    "    non_anomalous_depths_i.append(non_anom_i)\n",
    "\n",
    "    anomalous_depths_rcf.append(anom_rcf)\n",
    "    non_anomalous_depths_rcf.append(non_anom_rcf)\n",
    "\n",
    "print(f\"For rhp anom/non_anom: {np.mean(anomalous_depths_r)}, {np.mean(non_anomalous_depths_r)}\")\n",
    "print(f\"Time taken for rhp: {t_r}\")\n",
    "print(f\"For iforest anom/non_anom: {np.mean(anomalous_depths_i)}, {np.mean(non_anomalous_depths_i)}\")\n",
    "print(f\"Time taken for iForests: {t_i}\")\n",
    "print(f\"For RCF anom/non_anom: {np.mean(anomalous_depths_rcf)}, {np.mean(non_anomalous_depths_rcf)}\")\n",
    "print(f\"Time taken for rcf: {t_rcf}\")"
   ]
  }
 ],
 "metadata": {
  "kernelspec": {
   "display_name": "Python 3",
   "language": "python",
   "name": "python3"
  },
  "language_info": {
   "codemirror_mode": {
    "name": "ipython",
    "version": 3
   },
   "file_extension": ".py",
   "mimetype": "text/x-python",
   "name": "python",
   "nbconvert_exporter": "python",
   "pygments_lexer": "ipython3",
   "version": "3.6.0"
  }
 },
 "nbformat": 4,
 "nbformat_minor": 2
}
