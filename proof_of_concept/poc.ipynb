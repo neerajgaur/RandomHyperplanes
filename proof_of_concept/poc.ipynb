{
 "cells": [
  {
   "cell_type": "code",
   "execution_count": 1,
   "metadata": {
    "collapsed": false,
    "deletable": true,
    "editable": true
   },
   "outputs": [],
   "source": [
    "\"\"\" Proof of concept for the random-cut-hyperplanes idea \"\"\"\n",
    "import sys\n",
    "import numpy as np\n",
    "from scipy.stats import scoreatpercentile\n",
    "from sklearn.metrics import confusion_matrix"
   ]
  },
  {
   "cell_type": "code",
   "execution_count": 2,
   "metadata": {
    "collapsed": true,
    "deletable": true,
    "editable": true
   },
   "outputs": [],
   "source": [
    "def _gen_hard_data(n, p, infection_pct, variance=10.0, mu=5.0):\n",
    "    X = np.random.randn(n, p)\n",
    "\n",
    "    # hard data\n",
    "    # Weight it to the number of features\n",
    "    is_anomaly = np.random.rand(n, p) < (infection_pct / p)\n",
    "    X[is_anomaly] = variance * np.random.randn() + mu\n",
    "\n",
    "    y = np.zeros(shape=(n,))\n",
    "\n",
    "    tmp = np.array([np.any(r) for r in is_anomaly])\n",
    "    y[tmp] = 1.0\n",
    "\n",
    "    return (X, y)\n",
    "\n",
    "def _gen_easy_data(n, p, infection_pct, variance=10.0, mu=5.0):\n",
    "    X = np.random.randn(n, p)\n",
    "    is_anomaly = np.random.choice(n, size=int(infection_pct*n), replace=False)\n",
    "    X[is_anomaly] = variance * np.random.randn(is_anomaly.shape[0], p) + mu\n",
    "    y = np.zeros(shape=(n,))\n",
    "    y[is_anomaly] = 1.0\n",
    "    return (X, y)"
   ]
  },
  {
   "cell_type": "code",
   "execution_count": 3,
   "metadata": {
    "collapsed": false,
    "deletable": true,
    "editable": true
   },
   "outputs": [],
   "source": [
    "def run_plane_simul(points, y):\n",
    "    print(\"Beginning plane fit...\")\n",
    "    rhp = RandomHyperplanes(n_estimators=N_ESTIMATORS)\n",
    "    rhp = rhp.fit(points)\n",
    "    print(\"done fitting\")\n",
    "\n",
    "#     scores = rhp.decision_function(points)\n",
    "#     threshold = scoreatpercentile(scores, 100 - SCORE_AT)\n",
    "#     anomalies = scores >= threshold\n",
    "#     y_pred = np.zeros(shape=anomalies.shape)\n",
    "#     y_pred[anomalies] = 1\n",
    "    \n",
    "#     \"\"\"\n",
    "#     correct_guesses = np.count_nonzero(y[np.where(scores <= threshold)])\n",
    "#     incorrect_guesses = y[np.where(scores <= threshold)].shape[0] - \\\n",
    "#         correct_guesses\n",
    "\n",
    "#     print(\"Correct guesses:\", correct_guesses)\n",
    "#     print(\"Incorrect guesses:\", incorrect_guesses)\n",
    "#     print(\"Expected\", np.count_nonzero(y), \"anomalies\")\n",
    "#     \"\"\"\n",
    "#     cnf_matrix = confusion_matrix(y, y_pred)\n",
    "\n",
    "#     \"\"\"\n",
    "#     tn, fp, fn, tp = cnf_matrix.ravel()\n",
    "#     print(f\"tp: {tp} \\ntn: {tn} \\nfp: {fp} \\nfn: {fn}\")\n",
    "#     \"\"\"\n",
    "#     cnf_matrix = cnf_matrix.astype('float') / \\\n",
    "#         cnf_matrix.sum(axis=1)[:, np.newaxis]\n",
    "\n",
    "#     \"\"\"\n",
    "#     tn, fp, fn, tp = cnf_matrix.ravel()\n",
    "#     print(f\"Normalized \\ntp: {tp} \\ntn: {tn} \\nfp: {fp} \\nfn: {fn}\")\n",
    "#     \"\"\"\n",
    "#     print(cnf_matrix)\n",
    "\n",
    "    depths = rhp.get_depths(points)\n",
    "    anomalous_depths = depths[np.where(y==1.0)]\n",
    "    non_anomalous_depths = depths[np.where(y==0.0)]    \n",
    "    print(\"Average anomalous depth:\", np.mean(anomalous_depths))\n",
    "    print(\"Average non-anomalous depth:\", np.mean(non_anomalous_depths))\n",
    "    return (None, depths, None, y)\n",
    "\n",
    "\n",
    "def run_iforest_simul(points, y):\n",
    "    print(\"Beginning iforest fit...\")\n",
    "    iforest = IsolationForest(n_estimators=N_ESTIMATORS)\n",
    "    iforest = iforest.fit(points)\n",
    "    print(\"done fitting\")\n",
    "\n",
    "#     scores = iforest.decision_function(points)\n",
    "#     threshold = scoreatpercentile(scores, 100 - SCORE_AT)\n",
    "#     anomalies = scores >= threshold\n",
    "#     y_pred = np.zeros(shape=anomalies.shape)\n",
    "#     y_pred[anomalies] = 1\n",
    "\n",
    "#     \"\"\"\n",
    "#     correct_guesses = np.count_nonzero(y[np.where(scores <= threshold)])\n",
    "#     incorrect_guesses = y[np.where(scores <= threshold)].shape[0] - \\\n",
    "#         correct_guesses\n",
    "\n",
    "#     print(\"iforest Correct guesses:\", correct_guesses)\n",
    "#     print(\"iforest Incorrect guesses:\", incorrect_guesses)\n",
    "#     print(\"Expected\", np.count_nonzero(y), \"anomalies\")\n",
    "#     \"\"\"\n",
    "#     iforest_cnf_matrix = confusion_matrix(y, y_pred)\n",
    "#     \"\"\"\n",
    "#     tn, fp, fn, tp = iforest_cnf_matrix.ravel()\n",
    "#     print(f\"tp: {tp} \\ntn: {tn} \\nfp: {fp} \\nfn: {fn}\")\n",
    "#     \"\"\"\n",
    "#     iforest_cnf_matrix = iforest_cnf_matrix.astype('float') / \\\n",
    "#             iforest_cnf_matrix.sum(axis=1)[:, np.newaxis]\n",
    "\n",
    "#     print(iforest_cnf_matrix)\n",
    "\n",
    "#     \"\"\"\n",
    "#     tn, fp, fn, tp = iforest_cnf_matrix.ravel()\n",
    "#     print(f\"Normalized \\ntp: {tp} \\ntn: {tn} \\nfp: {fp} \\nfn: {fn}\")\n",
    "#     \"\"\"\n",
    "    depths = iforest.get_depths(points)\n",
    "    anomalous_depths = depths[np.where(y==1.0)]\n",
    "    non_anomalous_depths = depths[np.where(y==0.0)]    \n",
    "    print(\"Average anomalous depth:\", np.mean(anomalous_depths))\n",
    "    print(\"Average non-anomalous depth:\", np.mean(non_anomalous_depths))\n",
    "    return (None, depths, None, y)"
   ]
  },
  {
   "cell_type": "code",
   "execution_count": 4,
   "metadata": {
    "collapsed": false,
    "deletable": true,
    "editable": true
   },
   "outputs": [
    {
     "name": "stdout",
     "output_type": "stream",
     "text": [
      "Beginning plane fit...\n",
      "done fitting\n",
      "Average anomalous depth: 11.68\n",
      "Average non-anomalous depth: 31.0010526316\n"
     ]
    }
   ],
   "source": [
    "from planes import RandomHyperplanes\n",
    "\n",
    "N_ESTIMATORS = 5\n",
    "SCORE_AT = 2.5\n",
    "\n",
    "n = 1000 # number of entries\n",
    "p = 2    # features\n",
    "\n",
    "infection_pct = 0.05\n",
    "X, y = _gen_easy_data(n, p, infection_pct)\n",
    "\n",
    "scores_r, depths_r, y_pred_r, y_r = run_plane_simul(X, y)\n",
    "# print(\"\\nDone plane simul-----\\n\")\n",
    "# scores_i, depths_i, y_pred_i, y_i = run_iforest_simul(X, y)"
   ]
  },
  {
   "cell_type": "code",
   "execution_count": 5,
   "metadata": {
    "collapsed": false,
    "deletable": true,
    "editable": true,
    "scrolled": true
   },
   "outputs": [],
   "source": [
    "# X[np.where(y==1.0)]"
   ]
  },
  {
   "cell_type": "code",
   "execution_count": 6,
   "metadata": {
    "collapsed": false,
    "deletable": true,
    "editable": true
   },
   "outputs": [],
   "source": [
    "rhp = RandomHyperplanes(n_estimators=N_ESTIMATORS)\n",
    "rhp = rhp.fit(X)\n",
    "depths = rhp.get_depths(X)"
   ]
  },
  {
   "cell_type": "code",
   "execution_count": 7,
   "metadata": {
    "collapsed": true,
    "deletable": true,
    "editable": true
   },
   "outputs": [],
   "source": [
    "### print(np.unique(depths))"
   ]
  }
 ],
 "metadata": {
  "kernelspec": {
   "display_name": "Python 3",
   "language": "python",
   "name": "python3"
  },
  "language_info": {
   "codemirror_mode": {
    "name": "ipython",
    "version": 3
   },
   "file_extension": ".py",
   "mimetype": "text/x-python",
   "name": "python",
   "nbconvert_exporter": "python",
   "pygments_lexer": "ipython3",
   "version": "3.6.0"
  }
 },
 "nbformat": 4,
 "nbformat_minor": 2
}
