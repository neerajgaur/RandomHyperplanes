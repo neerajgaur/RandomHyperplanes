{
 "cells": [
  {
   "cell_type": "code",
   "execution_count": null,
   "metadata": {
    "collapsed": false,
    "deletable": true,
    "editable": true
   },
   "outputs": [],
   "source": [
    "\"\"\" Proof of concept for the random-cut-hyperplanes idea \"\"\"\n",
    "import sys\n",
    "import numpy as np\n",
    "import time\n",
    "\n",
    "from planes import *\n",
    "from projections import *\n",
    "# from iforest import *\n",
    "from run import *\n",
    "%load_ext autoreload\n",
    "%autoreload 2"
   ]
  },
  {
   "cell_type": "code",
   "execution_count": null,
   "metadata": {
    "collapsed": false,
    "deletable": true,
    "editable": true
   },
   "outputs": [
    {
     "name": "stdout",
     "output_type": "stream",
     "text": [
      "Iteration number : 1\n"
     ]
    }
   ],
   "source": [
    "n_estimators = 200  # Get a somewhat stable approximation\n",
    "SCORE_AT = 2.5\n",
    "\n",
    "n = 1000 # number of entries\n",
    "p = 30  # features\n",
    "\n",
    "infection_pct = 0.05\n",
    "X, y = gen_two_clusters(n, p, infection_pct)\n",
    "#X, y = gen_hard_data(n, p, infection_pct)\n",
    "\n",
    "anomalous_depths_r = list()\n",
    "non_anomalous_depths_r = list()\n",
    "\n",
    "anomalous_depths_ro = list()\n",
    "non_anomalous_depths_ro = list()\n",
    "\n",
    "anomalous_depths_i = list()\n",
    "non_anomalous_depths_i = list()\n",
    "\n",
    "anomalous_depths_rcf = list()\n",
    "non_anomalous_depths_rcf = list()\n",
    "t_r, t_ro, t_i, t_rcf = 0, 0, 0, 0\n",
    "\n",
    "for i in range(1, 2):\n",
    "    #if i % 10 == 0:\n",
    "    print(f\"Iteration number : {i}\")\n",
    "    start = time.time()\n",
    "    scores_ro, depths_ro, y_pred_ro, y_ro, anom_ro, non_anom_ro = run_plane_simul_old(X, y, \n",
    "                                                                            n_estimators=n_estimators)\n",
    "    stop = time.time()\n",
    "    t_ro = (t_ro*(i-1) + (stop - start))/i\n",
    "    start = stop\n",
    "    \n",
    "    scores_r, depths_r, y_pred_r, y_r, anom_r, non_anom_r = run_plane_simul(X, y, \n",
    "                                                                            n_estimators=n_estimators)\n",
    "    stop = time.time()\n",
    "    t_r = (t_r*(i-1) + (stop - start))/i\n",
    "    start = stop\n",
    "    \n",
    "    scores_i, depths_i, y_pred_i, y_i, anom_i, non_anom_i = run_iforest_simul(X, y, n_estimators=n_estimators,\n",
    "                                                                              method='iforest')\n",
    "    stop = time.time()\n",
    "    t_i = (t_i*(i-1) + (stop - start))/i\n",
    "    # start = stop\n",
    "    # scores_rcf, depths_rcf, y_pred_rcf, y_rcf, anom_rcf, non_anom_rcf = run_iforest_simul(X, y, \n",
    "    #                                                                                       n_estimators=n_estimators,\n",
    "    #                                                                                       method='rcf')\n",
    "    # stop = time.time()\n",
    "    # t_rcf = (t_rcf*(i-1) + (stop - start))/i\n",
    "\n",
    "    anomalous_depths_r.append(anom_r)\n",
    "    non_anomalous_depths_r.append(non_anom_r)\n",
    "    \n",
    "    anomalous_depths_ro.append(anom_ro)\n",
    "    non_anomalous_depths_ro.append(non_anom_ro)\n",
    "\n",
    "    anomalous_depths_i.append(anom_i)\n",
    "    non_anomalous_depths_i.append(non_anom_i)\n",
    "\n",
    "    # anomalous_depths_rcf.append(anom_rcf)\n",
    "    # non_anomalous_depths_rcf.append(non_anom_rcf)\n",
    "\n",
    "print(f\"For rhp anom/non_anom: {np.mean(anomalous_depths_r)}, {np.mean(non_anomalous_depths_r)}\")\n",
    "print(f\"Time taken for rhp: {t_r}\")\n",
    "print(f\"For old rhp anom/non_anom: {np.mean(anomalous_depths_ro)}, {np.mean(non_anomalous_depths_ro)}\")\n",
    "print(f\"Time taken for old rhp: {t_ro}\")\n",
    "print(f\"For iforest anom/non_anom: {np.mean(anomalous_depths_i)}, {np.mean(non_anomalous_depths_i)}\")\n",
    "print(f\"Time taken for iForests: {t_i}\")\n",
    "# print(f\"For RCF anom/non_anom: {np.mean(anomalous_depths_rcf)}, {np.mean(non_anomalous_depths_rcf)}\")\n",
    "# print(f\"Time taken for rcf: {t_rcf}\")"
   ]
  },
  {
   "cell_type": "code",
   "execution_count": 3,
   "metadata": {
    "collapsed": true,
    "deletable": true,
    "editable": true
   },
   "outputs": [],
   "source": [
    "from planes import RandomProjectionForestOld"
   ]
  },
  {
   "cell_type": "code",
   "execution_count": 4,
   "metadata": {
    "collapsed": true,
    "deletable": true,
    "editable": true
   },
   "outputs": [],
   "source": [
    "rhp = RandomProjectionForestOld(n_estimators=10)"
   ]
  },
  {
   "cell_type": "code",
   "execution_count": 5,
   "metadata": {
    "collapsed": true,
    "deletable": true,
    "editable": true
   },
   "outputs": [],
   "source": [
    "rhp = rhp.fit(X)"
   ]
  },
  {
   "cell_type": "code",
   "execution_count": 6,
   "metadata": {
    "collapsed": false,
    "deletable": true,
    "editable": true
   },
   "outputs": [
    {
     "data": {
      "text/plain": [
       "(500, 30)"
      ]
     },
     "execution_count": 6,
     "metadata": {},
     "output_type": "execute_result"
    }
   ],
   "source": [
    "X.shape"
   ]
  },
  {
   "cell_type": "code",
   "execution_count": 7,
   "metadata": {
    "collapsed": false,
    "deletable": true,
    "editable": true
   },
   "outputs": [
    {
     "data": {
      "text/plain": [
       "array([ 14.7,  16. ,  15.1,  12.6,  14.7,  12.9,  12. ,  13. ,  15.1,\n",
       "        15.4,  18.2,  14.7,  17.7,  14.7,  12.7,  12.6,  13.1,  15.2,\n",
       "        15.8,  15.9,  14.6,  17. ,  16. ,  14.4,  13.7,  14.9,  18.1,\n",
       "        15.9,  14.7,  12.9,  13.5,  13.9,  17.5,  12.4,  14.2,  17.4,\n",
       "        13.4,  19.6,  17.8,  13.2,  14.9,  17.9,  14.4,  15.2,  13.4,\n",
       "        13.5,  16.2,  17.2,  15.3,  13.2,  13.6,  16.7,  12.6,  13.4,\n",
       "        12.8,  13.6,  15.7,  14.6,  14.4,  14. ,  13.8,  13.6,  15. ,\n",
       "        14.8,  16.1,  13.6,  14.8,  15.9,  15.9,  15.1,  14.4,  14. ,\n",
       "        16.7,  19.2,  14.6,  15.1,  16.3,  16.6,  13.8,  18.5,  19.4,\n",
       "        16.6,  16.2,  16.6,  13.9,  14.1,  14. ,  17.5,  14.1,  14.7,\n",
       "        13.2,  14.2,  15.2,  19.1,  15.3,  16.8,  13.1,  14.4,  13.4,\n",
       "        14.1,  15.4,  17.6,  17.1,  14.1,  12.9,  14.5,  14.6,  14.8,\n",
       "        17.9,  15.5,  16.8,  11.7,  14.7,  14.3,  14.6,  13.5,  14.7,\n",
       "        15.8,  15.2,  15. ,   6.7,  15.3,  14. ,  17.3,  14.9,  16.2,\n",
       "        16.9,  19.1,  14.9,   7.4,  13.6,  13.4,  14.8,  13.8,  13.5,\n",
       "        14.1,  16.1,  14.4,  14.3,  15.1,  13.7,  13.1,  17.8,  16. ,\n",
       "        15.3,  15. ,  13.6,  17.7,  17.4,   7. ,  10.2,  16.8,  15.7,\n",
       "        13.8,  12. ,  14.4,  13.5,  16.1,  16.4,  15.2,  17.7,  15. ,\n",
       "        13.1,  14.2,  15.4,  16.2,  14.8,  12.1,  16.2,  15.9,  17.9,\n",
       "        14.5,  15.1,  17.8,  17.1,   7.6,  17.1,  15.7,  14.9,  16.4,\n",
       "        15.5,  15.9,  13.9,  15.7,  14.9,  15.3,  13.5,  17. ,  15.1,\n",
       "        19.6,  15.4,  17.5,  19.2,  12.6,  17.5,  16.2,  14.3,  15.1,\n",
       "        16.1,  15.9,  15.4,  12.1,  16. ,  15.8,  15.6,  16.1,  17.4,\n",
       "        17.6,  15.2,  12.9,  14.7,  14.7,  13.6,  13.1,  15.6,  12.6,\n",
       "        13.1,  17.8,  15.2,  15.2,  14.9,  14.4,  17.7,  19. ,  16. ,\n",
       "        13.4,  16.1,  16.8,   8.1,  15. ,  14.5,  18.3,  15.8,  13.2,\n",
       "        14.8,  13.7,  16.2,  14.4,  14.5,  14.2,  17.6,  15.1,  12.9,\n",
       "        14. ,  15.9,  15.1,  17. ,  12.3,  15.9,  14.6,  17.1,  16.1,\n",
       "         8.1,  16.1,  13. ,  16. ,  14.5,  16.4,  15. ,  13.7,  16.2,\n",
       "        14.6,  15.2,  16. ,  16.5,  17.3,  18.2,  17.2,  15. ,  13.8,\n",
       "        15.6,  17.9,  17.9,  14.1,  15.5,  13.8,  16.2,  12.5,  16.5,\n",
       "        14.2,  17.7,  12.2,  19.8,  18.5,  12.3,  14.9,  15.3,  15.2,\n",
       "        16.5,  15. ,  18.7,  12.4,  16.6,  15.6,  11.6,  14.4,  11.3,\n",
       "        13.4,  16.2,  17.7,  12.4,  12.4,  18. ,  13.1,  15.2,  15.8,\n",
       "        14.8,  15.6,  15.9,  18.2,  14.7,  13.1,  16.2,  18.9,  15.8,\n",
       "        10.7,  15.1,  13.2,  17.1,  13. ,  13.2,  17.1,  13. ,  16.7,\n",
       "        16.7,  13.1,  16.5,  15.8,  14.9,  14.4,  16.4,  14.1,  16.1,\n",
       "        15.3,  13.4,  14. ,  15. ,  15.9,  14.8,  15. ,  17.2,  12.8,\n",
       "        15.4,  13.4,  14.2,  16. ,  15.2,  14.2,  18.5,  16.6,  14.9,\n",
       "        17.6,  12.7,  15. ,  14.7,  16.4,  17.2,  12.6,  14.2,  12.4,\n",
       "        16.8,  15.5,  13.3,  15.9,  14.5,  13.8,  15. ,  18.7,  12.3,\n",
       "        15.3,  14.9,  14.2,  13.8,  15.4,  14.4,  14.7,  16. ,  15.1,\n",
       "        15.5,  13.1,  16.6,  15.4,  11.2,   7.4,  15.6,  15.3,  16. ,\n",
       "        14.6,  12.5,  17.5,  13.6,  16.3,  17.7,  13.6,  15.7,  15.3,\n",
       "        14.8,  14.7,  13.1,  13.3,  17.4,  16.7,  13.4,  14. ,  14.4,\n",
       "        13.5,  17.7,  14.8,  16.4,  13.3,   7.1,  13.2,  12.6,  13.8,\n",
       "        14.5,  11.7,  15.3,  15.3,  14.2,  15.1,  15.8,  15.2,  16.7,\n",
       "        14.2,  16.7,  16.2,  13.3,  13.5,  16.5,  14.4,  13.3,  16.5,\n",
       "        15.3,  16.5,  17.8,  19.7,  14.6,  14.2,  13. ,  15.1,  12.6,\n",
       "        14.6,  16.7,  16.3,  15. ,  14.6,  18.3,  15.1,  14.9,  18.1,\n",
       "        16.3,  17.2,  16.6,  12. ,  16.2,  13.1,  11.2,  15.8,  13.9,\n",
       "        13.9,   7.4,  17.4,  15.9,  13.2,  15.9,  14.2,  14.3,  12.1,\n",
       "        13.7,  18.5,  11.5,  15. ,  20.6,  20.3,  16.3,  15.3,  14.2,\n",
       "        13.5,   7.4,  13.7,  14.9,  16.1,  15.9,  14.7,  14.1,  16.4,\n",
       "        15.2,  15.8,  12.1,  13.2,  14.9,  14.6,  14.8,  16.8,  14.7,\n",
       "        16.3,  16.4,  16.1,  15.6,  16.8])"
      ]
     },
     "execution_count": 7,
     "metadata": {},
     "output_type": "execute_result"
    }
   ],
   "source": [
    "rhp.get_depths(X)"
   ]
  },
  {
   "cell_type": "code",
   "execution_count": null,
   "metadata": {
    "collapsed": true,
    "deletable": true,
    "editable": true
   },
   "outputs": [],
   "source": []
  }
 ],
 "metadata": {
  "kernelspec": {
   "display_name": "Python 3",
   "language": "python",
   "name": "python3"
  },
  "language_info": {
   "codemirror_mode": {
    "name": "ipython",
    "version": 3
   },
   "file_extension": ".py",
   "mimetype": "text/x-python",
   "name": "python",
   "nbconvert_exporter": "python",
   "pygments_lexer": "ipython3",
   "version": "3.6.0"
  }
 },
 "nbformat": 4,
 "nbformat_minor": 2
}
