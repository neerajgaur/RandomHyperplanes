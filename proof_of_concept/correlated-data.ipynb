{
 "cells": [
  {
   "cell_type": "code",
   "execution_count": 3,
   "metadata": {
    "collapsed": true,
    "deletable": true,
    "editable": true
   },
   "outputs": [],
   "source": [
    "import numpy as np\n",
    "import matplotlib.pyplot as plt\n",
    "from projections import RandomProjectionForest\n",
    "from iforest import IsolationForest\n",
    "from sklearn import datasets\n",
    "\n",
    "%matplotlib inline"
   ]
  },
  {
   "cell_type": "code",
   "execution_count": 9,
   "metadata": {
    "collapsed": false,
    "deletable": true,
    "editable": true
   },
   "outputs": [],
   "source": [
    "n = 1000\n",
    "contamination = 0.025\n",
    "n_anomalies = int(n * contamination)\n",
    "p = 2\n",
    "\n",
    "\n",
    "# Parameters for each classifier\n",
    "N_ESTIMATORS = 100\n",
    "SCORE_AT = 90.0\n",
    "\n",
    "mean = np.array([0, 0])\n",
    "\n",
    "# cov = np.array([\n",
    "#     [  3.40, -2.75, -2.00],\n",
    "#     [ -2.75,  5.50,  1.50],\n",
    "#     [ -2.00,  1.50,  1.25]\n",
    "# ])\n",
    "\n",
    "# The desired covariance matrix.\n",
    "cov = np.array([\n",
    "    [10.14159, -11.75],\n",
    "    [-10.0, 12.50]\n",
    "])\n",
    "\n",
    "cov_2 = np.array([\n",
    "    [12.50, 10.0],\n",
    "    [11.75, 10.14159]\n",
    "])\n",
    "\n",
    "\n",
    "offset = 50\n",
    "cov_anon = np.array([\n",
    "    [ 10.14159, 0.0],\n",
    "    [ 0, 15.14159]\n",
    "])\n",
    "mean_anon = [0, 0]\n",
    "is_anomaly = np.random.choice(n, size=n_anomalies, replace=False)\n",
    "\n",
    "\n",
    "# X, y = datasets.make_moons(n_samples=n, noise=0.02)\n",
    "# X = offset * X\n",
    "\n",
    "X = np.random.multivariate_normal(mean=[-20, -10],  cov=cov, size=(int(n/2),))\n",
    "X = np.row_stack([X, np.random.multivariate_normal(mean=[20, 10], cov=cov_2, size=(int(n/2),))])\n",
    "\n",
    "X[is_anomaly] = np.random.multivariate_normal(mean=mean_anon, cov=cov_anon, size=(is_anomaly.shape[0]))\n",
    "\n",
    "# noisy_circles = datasets.make_circles(n_samples=n, factor=0.1, noise=0.1)\n",
    "\n",
    "# X[np.where(y == 0)] = 10.0 * X[np.where(y==0)]\n",
    "\n",
    "xx, yy = np.meshgrid(np.linspace(int(np.min(X[:, 0]))-5.0, int(np.max(X[:, 0]))+5.0, 100), \n",
    "                     np.linspace(int(np.min(X[:, 1]))-5.0, int(np.max(X[:, 1]))+5.0, 100))\n",
    "\n",
    "# X_non = X[np.where(y == 1)]\n",
    "# X_anon = X[np.where(y == 0)]\n",
    "# X_anon = X_anon[np.random.choice(X_anon.shape[0], 25, replace=False), :]\n",
    "# X = np.row_stack([X_non, X_anon])\n",
    "# y = np.zeros(shape=(n,))\n",
    "# y[is_anomaly] = 1.0"
   ]
  },
  {
   "cell_type": "code",
   "execution_count": 10,
   "metadata": {
    "collapsed": false,
    "deletable": true,
    "editable": true
   },
   "outputs": [],
   "source": [
    "# X_non = X[y == 0]\n",
    "# X_ano = X[y == 1]"
   ]
  },
  {
   "cell_type": "code",
   "execution_count": 11,
   "metadata": {
    "collapsed": false,
    "deletable": true,
    "editable": true,
    "scrolled": true
   },
   "outputs": [
    {
     "data": {
      "image/png": "[encoded data removed]",
      "text/plain": [
       "<matplotlib.figure.Figure at 0x7fc6269bb5c0>"
      ]
     },
     "metadata": {},
     "output_type": "display_data"
    }
   ],
   "source": [
    "# plt.scatter(X_non[:, 0], X_non[:, 1], c='b', alpha=0.5, marker='o')\n",
    "# plt.scatter(X_ano[:, 0], X_ano[:, 1], c='r', alpha=0.5, marker='x')\n",
    "# plt.scatter(X_non[:, 0], X_non[:, 1], alpha=0.5)\n",
    "# plt.scatter(X_anon[:, 0], X_anon[:, 1], alpha=0.5)\n",
    "plt.scatter(X[:, 0], X[:, 1], alpha=0.5)\n",
    "\n",
    "plt.show()"
   ]
  },
  {
   "cell_type": "code",
   "execution_count": null,
   "metadata": {
    "collapsed": false,
    "deletable": true,
    "editable": true
   },
   "outputs": [],
   "source": [
    "rhp = RandomProjectionForest(n_estimators=N_ESTIMATORS, method='rcf').fit(X)\n",
    "\n",
    "y_pred = rhp.predict(X, score_at=SCORE_AT)\n",
    "\n",
    "X_non_pred = X[y_pred == 0]\n",
    "X_ano_pred = X[y_pred == 1]\n",
    "\n",
    "Z = 1 - rhp.decision_function(np.c_[xx.ravel(), yy.ravel()])\n",
    "\n",
    "Z = Z.reshape(xx.shape)\n",
    "plt.contourf(xx, yy, Z, cmap=plt.cm.Blues_r)\n",
    "\n",
    "plt.scatter(X_non_pred[:, 0], X_non_pred[:, 1], c='b', alpha=0.2, marker='o')\n",
    "plt.scatter(X_ano_pred[:, 0], X_ano_pred[:, 1], c='r', alpha=0.5, marker='x')\n",
    "plt.xlim([np.min(X[:, 0])-1.0, np.max(X[:, 0])+1.0])\n",
    "plt.ylim([np.min(X[:, 1])-1.0, np.max(X[:, 1])+1.0])\n",
    "plt.show()"
   ]
  },
  {
   "cell_type": "code",
   "execution_count": null,
   "metadata": {
    "collapsed": false,
    "deletable": true,
    "editable": true
   },
   "outputs": [],
   "source": [
    "rcf = IsolationForest(n_estimators=N_ESTIMATORS, method='rcf').fit(X)\n",
    "\n",
    "y_pred = rcf.predict(X, score_at=SCORE_AT)\n",
    "\n",
    "X_non_pred = X[y_pred == 0]\n",
    "X_ano_pred = X[y_pred == 1]\n",
    "\n",
    "Z = 1 - rcf.decision_function(np.c_[xx.ravel(), yy.ravel()])\n",
    "\n",
    "Z = Z.reshape(xx.shape)\n",
    "plt.contourf(xx, yy, Z, cmap=plt.cm.Blues_r)\n",
    "\n",
    "plt.scatter(X_non_pred[:, 0], X_non_pred[:, 1], c='b', alpha=0.2, marker='o')\n",
    "plt.scatter(X_ano_pred[:, 0], X_ano_pred[:, 1], c='r', alpha=0.5, marker='x')\n",
    "plt.xlim([np.min(X[:, 0])-1.0, np.max(X[:, 0])+1.0])\n",
    "plt.ylim([np.min(X[:, 1])-1.0, np.max(X[:, 1])+1.0])\n",
    "plt.show()"
   ]
  },
  {
   "cell_type": "code",
   "execution_count": null,
   "metadata": {
    "collapsed": false,
    "deletable": true,
    "editable": true
   },
   "outputs": [],
   "source": [
    "ignore_me = \"\"\"\n",
    "iforest = IsolationForest(n_estimators=N_ESTIMATORS).fit(X)\n",
    "\n",
    "y_pred = iforest.predict(X, score_at=SCORE_AT)\n",
    "\n",
    "X_non_pred = X[y_pred == 0]\n",
    "X_ano_pred = X[y_pred == 1]\n",
    "\n",
    "Z = 1 - iforest.decision_function(np.c_[xx.ravel(), yy.ravel()])\n",
    "\n",
    "Z = Z.reshape(xx.shape)\n",
    "plt.contourf(xx, yy, Z, cmap=plt.cm.Blues_r)\n",
    "\n",
    "plt.scatter(X_non_pred[:, 0], X_non_pred[:, 1], c='b', alpha=0.2, marker='o')\n",
    "plt.scatter(X_ano_pred[:, 0], X_ano_pred[:, 1], c='r', alpha=0.5, marker='x')\n",
    "plt.xlim([np.min(X[:, 0])-1.0, np.max(X[:, 0])+1.0])\n",
    "plt.ylim([np.min(X[:, 1])-1.0, np.max(X[:, 1])+1.0])\n",
    "plt.show()\n",
    "\"\"\""
   ]
  },
  {
   "cell_type": "code",
   "execution_count": null,
   "metadata": {
    "collapsed": false,
    "deletable": true,
    "editable": true
   },
   "outputs": [],
   "source": [
    "depths_rhp, y_pred_rhp = rhp.get_depths(X), rhp.predict(X, score_at=SCORE_AT)\n",
    "depths_rcf, y_pred_rcf = rcf.get_depths(X), rcf.predict(X, score_at=SCORE_AT)\n",
    "\n",
    "anom_rhp = np.mean(depths_rhp[np.where(y_pred_rhp == 1)])\n",
    "nona_rhp = np.mean(depths_rhp[np.where(y_pred_rhp == 0)])\n",
    "\n",
    "anom_rcf = np.mean(depths_rcf[np.where(y_pred_rcf == 1)])\n",
    "nona_rcf = np.mean(depths_rcf[np.where(y_pred_rcf == 0)])"
   ]
  },
  {
   "cell_type": "code",
   "execution_count": null,
   "metadata": {
    "collapsed": false,
    "deletable": true,
    "editable": true
   },
   "outputs": [],
   "source": [
    "print(f\"anom/non-anom for rhp: {anom_rhp} / {nona_rhp}\")\n",
    "print(f\"anom/non-anom for rcf: {anom_rcf} / {nona_rcf}\")"
   ]
  },
  {
   "cell_type": "code",
   "execution_count": null,
   "metadata": {
    "collapsed": true,
    "deletable": true,
    "editable": true
   },
   "outputs": [],
   "source": []
  }
 ],
 "metadata": {
  "kernelspec": {
   "display_name": "Python 3",
   "language": "python",
   "name": "python3"
  },
  "language_info": {
   "codemirror_mode": {
    "name": "ipython",
    "version": 3
   },
   "file_extension": ".py",
   "mimetype": "text/x-python",
   "name": "python",
   "nbconvert_exporter": "python",
   "pygments_lexer": "ipython3",
   "version": "3.6.0"
  }
 },
 "nbformat": 4,
 "nbformat_minor": 2
}
